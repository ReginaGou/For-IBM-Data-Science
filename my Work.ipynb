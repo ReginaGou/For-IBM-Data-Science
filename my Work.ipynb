{
 "cells": [
  {
   "cell_type": "markdown",
   "id": "a1733909-268f-4d31-a8a2-726fb2792e98",
   "metadata": {},
   "source": [
    "# My Jupyter Notebook on IBM Watson Studio"
   ]
  },
  {
   "cell_type": "markdown",
   "id": "5986172a-fc20-4aba-a926-49f68f0458f1",
   "metadata": {},
   "source": [
    "**Shichen Gou**  \n",
    "Mathematician"
   ]
  },
  {
   "cell_type": "markdown",
   "id": "5f6f5b2f-7c5e-48ad-835c-48c73b352c23",
   "metadata": {},
   "source": [
    "*I am interested in data science because I enjoy solving problems by using data.*"
   ]
  },
  {
   "cell_type": "markdown",
   "id": "c093f3aa-7317-41d0-92b9-5cc92a30a254",
   "metadata": {},
   "source": [
    "### This is a simple calculation"
   ]
  },
  {
   "cell_type": "code",
   "execution_count": 6,
   "id": "e2796dce-e6f1-445c-944d-e4c42fa23f24",
   "metadata": {},
   "outputs": [
    {
     "name": "stdout",
     "output_type": "stream",
     "text": [
      "315\n"
     ]
    }
   ],
   "source": [
    "a = 5\n",
    "b = 7\n",
    "c = 9\n",
    "print (a * b * c)"
   ]
  },
  {
   "cell_type": "markdown",
   "id": "2274fdc9-8631-451a-873e-bc1610824098",
   "metadata": {},
   "source": [
    "---\n",
    "<li>list 1</li>\n",
    "<li>list 2</li>\n",
    "<li>list 3</li>\n",
    "<li>list 4</li>\n",
    "<li>list 5</li>\n",
    "\n",
    "---\n",
    "\n",
    "<table border=\"1\">\n",
    "    <tr>\n",
    "        <td>group 1, red</td>\n",
    "        <td>group 2, yellow</td>\n",
    "    </tr>\n",
    "    <tr>\n",
    "        <td>group 3, green</td>\n",
    "        <td>group 4, blue</td>\n",
    "    </tr>\n",
    "</table>\n",
    "\n",
    "---\n",
    "\n",
    "<h1><a href=\"https://ielts.neea.edu.cn/homepage\">IELTS</a></h1>"
   ]
  },
  {
   "cell_type": "code",
   "execution_count": null,
   "id": "1ccce3a0-d6fe-4da2-9e17-2c558d9c1934",
   "metadata": {},
   "outputs": [],
   "source": []
  }
 ],
 "metadata": {
  "kernelspec": {
   "display_name": "Python 3 (ipykernel)",
   "language": "python",
   "name": "python3"
  },
  "language_info": {
   "codemirror_mode": {
    "name": "ipython",
    "version": 3
   },
   "file_extension": ".py",
   "mimetype": "text/x-python",
   "name": "python",
   "nbconvert_exporter": "python",
   "pygments_lexer": "ipython3",
   "version": "3.9.12"
  }
 },
 "nbformat": 4,
 "nbformat_minor": 5
}
